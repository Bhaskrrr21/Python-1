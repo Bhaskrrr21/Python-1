{
  "nbformat": 4,
  "nbformat_minor": 0,
  "metadata": {
    "colab": {
      "provenance": []
    },
    "kernelspec": {
      "name": "python3",
      "display_name": "Python 3"
    },
    "language_info": {
      "name": "python"
    }
  },
  "cells": [
    {
      "cell_type": "markdown",
      "source": [
        "#Data Types and Structures"
      ],
      "metadata": {
        "id": "WtErY7dS8LNA"
      }
    },
    {
      "cell_type": "markdown",
      "source": [
        "1. What are data structures, and why are they important ?\n",
        "\n",
        "  - Data structures are specific ways to organize and store data. They tells the relationships between data and how it can be accessed. Common examples include arrays, lists, dictionaries, trees, and graphs.\n",
        "\n",
        "  - They enable quick data retrieval, manipulation, and storage.\n",
        "\n",
        "  - They keep data structured and organized, making the code easier to read and maintain.\n",
        "\n",
        "   - Data structures are utilized in various fields including databases, search engines, and social networks."
      ],
      "metadata": {
        "id": "fXbRDWCm8nuc"
      }
    },
    {
      "cell_type": "markdown",
      "source": [
        "2. Explain the difference between mutable and\n",
        " immutable data types with examples\n",
        "  - Mutable Data Types\n",
        "\n",
        " Mutable data types are those whose values can be changed after they are created. This means you can modify the object in-place without creating a new object.\n",
        "\n",
        " List, Sets, and Dictionary are some examples of mutable data types.\n",
        "   - Immutable Data Types\n",
        "\n",
        "   Immutable data types are those whose values cannot be changed after they are created. If you try to modify an immutable object, a new object is created with the modified value.\n",
        "\n",
        "   Tupels, Strings, and Numbers are some examples of immutable datatypes."
      ],
      "metadata": {
        "id": "tIhVf04QA0ss"
      }
    },
    {
      "cell_type": "markdown",
      "source": [
        "3. What are the main differences between lists and tuples in Python ?\n",
        "  - The main difference between tuples and lists is that tuples are immutable, meaning their contents cannot be changed after creation, while lists are mutable and can be modified.\n",
        "  \n",
        "    Tuples are more memory-efficient compared to lists.\n",
        "\n",
        "    Tuples can't be changed after they're created, but lists can be modified"
      ],
      "metadata": {
        "id": "QvWh_osrA9Bc"
      }
    },
    {
      "cell_type": "markdown",
      "source": [
        "4. Describe how dictionaries store data\n",
        "\n",
        "- A dictionary is a kind of data structure that stores items in key-value pairs. A key is a unique identifier for an item, and a value. Hashing  Keys are hashed to create a unique identifier, which allows for fast retrieval of values. Dictionaries provide a flexible and efficient way to store and retrieve data using unique keys"
      ],
      "metadata": {
        "id": "CHVeX0jX98Rw"
      }
    },
    {
      "cell_type": "markdown",
      "source": [
        "5. Why might you use a set instead of a list in Python ?\n",
        "  \n",
        "  Using a set instead of a list in Python can be advantageous in several scenarios due to the unique properties of sets like\n",
        " - Uniqueness: Sets automatically enforce uniqueness, preventing duplicate elements.\n",
        "\n",
        " - Set Operations: Built-in support for mathematical operations like union, intersection, and difference.\n",
        "\n",
        " - Unordered: Sets are unordered collections.\n",
        "\n",
        " - Memory Efficiency: More memory-efficient for large collections of unique items.\n",
        "\n",
        " - Data Integrity: Automatically ignores duplicates when adding elements."
      ],
      "metadata": {
        "id": "3T3VBLlHCv4f"
      }
    },
    {
      "cell_type": "markdown",
      "source": [
        " 6. What is a string in Python, and how is it different from a list ?\n",
        "\n",
        "  A string is a sequence of characters while list is a collection of elements that can be of any data type.\n",
        "Strings are immutable, meaning they cannot be changed once created, while lists are mutable and can be modified as needed"
      ],
      "metadata": {
        "id": "eF9LtLXmD7h5"
      }
    },
    {
      "cell_type": "markdown",
      "source": [
        "7. How do tuples ensure data integrity in Python\n",
        "\n",
        "  Tuples ensure data integrity in Python through their immutability, fixed structure, hashability, semantic meaning, and by preventing accidental modifications, making them a reliable choice for representing constant data"
      ],
      "metadata": {
        "id": "ecH3ik7HE-hm"
      }
    },
    {
      "cell_type": "markdown",
      "source": [
        "8. What is a hash table, and how does it relate to dictionaries in Python\n",
        "\n",
        "  Hash Table in Python is a data structure which stores data by using a pair of values and keys. Each data value is allocated an exclusive key that is created by using the hash functions.\n",
        "- Python's dict type is implemented using a hash table\n",
        "- By using hash table we can access data fast and manage it."
      ],
      "metadata": {
        "id": "j-OwRWx5D2kn"
      }
    },
    {
      "cell_type": "markdown",
      "source": [
        " 9. Can lists contain different data types in Python ?\n",
        "\n",
        " Yes, lists in Python can contain different data types like\n",
        "\n",
        "- Integers: 1, 2, 3\n",
        "\n",
        "- Floats: 1.5, 2.7\n",
        "\n",
        "- Strings: \"hello\" \"world\"\n",
        "\n",
        "- Booleans: True, False\n",
        "\n",
        "- Tuples: (1, 2)"
      ],
      "metadata": {
        "id": "MAUZJn7BDxK0"
      }
    },
    {
      "cell_type": "markdown",
      "source": [
        "10. Explain why strings are immutable in Python?\n",
        "\n",
        "  Strings are immutable they cannot be changed after creation the reason behind strings are immutable because :\n",
        "\n",
        "- Memory Efficiency – Python reuses identical strings\n",
        "- Hashing – Immutable strings can be used as dictionary keys.\n",
        "- Security & Thread Safety – Prevents accidental modifications.\n",
        "- Performance – Optimized for speed by avoiding unnecessary changes"
      ],
      "metadata": {
        "id": "W1hUKc_CIYCe"
      }
    },
    {
      "cell_type": "markdown",
      "source": [
        "11. What advantages do dictionaries offer over lists for certain tasks ?\n",
        "\n",
        "  Dictionaries have several advantages over lists for certain tasks like :\n",
        "  - Dictionaries use hashing for quick access.\n",
        "  - Retrieve values using meaningful keys, not indices.\n",
        "  - Efficien No need to shift elements like in lists.\n",
        "  - Better data representation ideal for structured data"
      ],
      "metadata": {
        "id": "DXm9KHjqKr4A"
      }
    },
    {
      "cell_type": "markdown",
      "source": [
        "12. Describe a scenario where using a tuple would be preferable over a list?\n",
        "\n",
        "- Suppose you have a function that calculates the dimensions of a rectangle width and height based on its area and. You want to return both the width and height from the function we will use tuple to return values from a function is preferable because it ensures immutability, provides semantic clarity, simplifies the return process"
      ],
      "metadata": {
        "id": "6ibUWdlbMdx9"
      }
    },
    {
      "cell_type": "markdown",
      "source": [
        "13. How do sets handle duplicate values in Python?\n",
        "\n",
        "- Sets automatically remove duplicate values when elements are added. They store only unique values using a hash table\n",
        "- Hashing ensures each value appears only once"
      ],
      "metadata": {
        "id": "w-TSh5ITOLaF"
      }
    },
    {
      "cell_type": "markdown",
      "source": [
        " 14. How does the “in” keyword work differently for lists and dictionaries?\n",
        "\n",
        "  The \"in\" keyword works differently for both lists and dictionaries\n",
        "  \n",
        "- **List** - The in keyword search through each item one by one checks a specific value .\n",
        "-**Dictonary** - The in keyword only checks keys, not values.\n",
        "             \n",
        "   \n",
        "\n"
      ],
      "metadata": {
        "id": "PgAY_ZCIO4jd"
      }
    },
    {
      "cell_type": "markdown",
      "source": [
        "15. Can you modify the elements of a tuple? Explain why or why not ?\n",
        "-  No, you cannot modify the elements of a tuple in. This is because tuples are immutable data structures elements their cannot be changed, added, or removed after creation."
      ],
      "metadata": {
        "id": "h9oZPbWivkGg"
      }
    },
    {
      "cell_type": "markdown",
      "source": [
        "16. What is a nested dictionary, and give an example of its use case?\n",
        "-  A nested dictionary is a dictionary that contains other dictionaries .This allows you to organize data in a structured way, making it easier to manage complex information.\n",
        "- Use Case : storing contacts information"
      ],
      "metadata": {
        "id": "kh_RODSMwYeC"
      }
    },
    {
      "cell_type": "code",
      "source": [
        "contacts = {\n",
        "    \"John\": {\n",
        "        \"phone\": \"123-456-7890\",\n",
        "        \"email\": \"john@example.com\"\n",
        "    },\n",
        "    \"Raj\": {\n",
        "        \"phone\": \"987-654-3210\",\n",
        "        \"email\": \"raj@example.com\"\n",
        "    }\n",
        "}"
      ],
      "metadata": {
        "id": "-VgMzhcC0xuD"
      },
      "execution_count": 3,
      "outputs": []
    },
    {
      "cell_type": "markdown",
      "source": [
        "17. Describe the time complexity of accessing elements in a dictionary ?\n",
        "\n",
        "- The time complexity of accessing elements in a dictionary in Python is average O(1), which means that it takes constant time to retrieve a value based on its key\n",
        "- In rare cases, if many keys hash to the same index the dictionary may need to handle these collisions. This can lead to a worst-case scenario of O(n) time complexity"
      ],
      "metadata": {
        "id": "fMSp8Qhh1fiL"
      }
    },
    {
      "cell_type": "markdown",
      "source": [
        "18. In what situations are lists preferred over dictionaries ?\n",
        "- There are several situation where lists are preferred over dictonaries such as :\n",
        "   -  When you need to perform operations on each item\n",
        "   -  When frequently adding or removing items (e.g, a shopping cart)\n",
        "   - When the order of elements matters (e.g,a playlist)\n",
        "   - When working with a collection of similar items (e.g, a list of integers)\n",
        "   - When storing items without associated keys (e.g, a list of names)."
      ],
      "metadata": {
        "id": "ggTYXPpy4WzA"
      }
    },
    {
      "cell_type": "markdown",
      "source": [
        "19. Why are dictionaries considered unordered, and how does that affect data retrieval ?\n",
        "- Dictionaries in Python are considered unordered because they do not maintain the order of elements based on their insertion. Instead, they use a hash table to store keyvalue pairs, which allows for efficient access\n",
        "- This affects data retrieval by ensuring that access is efficient by key but does not guarantee any specific order when iterating over the keys"
      ],
      "metadata": {
        "id": "uIu681q47eCy"
      }
    },
    {
      "cell_type": "markdown",
      "source": [
        " 20. Explain the difference between a list and a dictionary in terms of data retrieval ?\n",
        "  # - Data Structure:\n",
        "- List: Ordered collection indexed by position\n",
        "- Dictionary: Unordered collection of key-value pairs accessed by unique keys.\n",
        "#- Access Method:\n",
        "- List: Access elements using an index (e.g., my_list[2]).\n",
        "- Dictionary: Access values using a key (e.g., my_dict['key1']).\n",
        "#- Time Complexity:\n",
        "- List: O(1) for index access; O(n) for searching by value.\n",
        "- Dictionary: O(1) on average for key access.\n",
        "#- Order:\n",
        "- List: Maintains the order of elements.\n",
        "- Dictionary: Conceptually unordered but maintains insertion order"
      ],
      "metadata": {
        "id": "FUdRJZwn8dxG"
      }
    },
    {
      "cell_type": "markdown",
      "source": [
        "# Practical Questions"
      ],
      "metadata": {
        "id": "1ixOXXbdPtJX"
      }
    },
    {
      "cell_type": "markdown",
      "source": [
        "1. Write a code to create a string with your name and print it ?"
      ],
      "metadata": {
        "id": "9POLKEH3FV7h"
      }
    },
    {
      "cell_type": "code",
      "source": [
        "print(\"Bhaskar\")"
      ],
      "metadata": {
        "colab": {
          "base_uri": "https://localhost:8080/"
        },
        "id": "qOgVCXsVF3GB",
        "outputId": "e50d1672-a096-47e5-f682-7dd7a8124fff"
      },
      "execution_count": 1,
      "outputs": [
        {
          "output_type": "stream",
          "name": "stdout",
          "text": [
            "Bhaskar\n"
          ]
        }
      ]
    },
    {
      "cell_type": "markdown",
      "source": [
        "2. Write a code to find the length of the string \"Hello World\" ?\n"
      ],
      "metadata": {
        "id": "-Hz5zMilFVyc"
      }
    },
    {
      "cell_type": "code",
      "source": [
        "string = \"Hello World\"\n",
        "length = len(string)\n",
        "print(length)\n"
      ],
      "metadata": {
        "id": "E5QGJPdAWn4R"
      },
      "execution_count": null,
      "outputs": []
    },
    {
      "cell_type": "markdown",
      "source": [
        " 3. Write a code to slice the first 3 characters from the string \"Python Programming"
      ],
      "metadata": {
        "id": "r9OLGUoA-Ttg"
      }
    },
    {
      "cell_type": "code",
      "source": [
        "string = \"Bhaskar\"\n",
        "sliced_string = string[:3]\n",
        "print(sliced_string)\n"
      ],
      "metadata": {
        "colab": {
          "base_uri": "https://localhost:8080/"
        },
        "id": "1Jo9avtzIgcE",
        "outputId": "acbf0317-60df-4233-991b-205db634f875"
      },
      "execution_count": 6,
      "outputs": [
        {
          "output_type": "stream",
          "name": "stdout",
          "text": [
            "Bha\n"
          ]
        }
      ]
    },
    {
      "cell_type": "markdown",
      "source": [
        "4. Write a code to convert the string \"hello\" to uppercase?"
      ],
      "metadata": {
        "id": "6Q6geXeY-GUl"
      }
    },
    {
      "cell_type": "code",
      "source": [
        "string = \"hello\"\n",
        "uppercase_string = string.upper()\n",
        "print(uppercase_string)\n"
      ],
      "metadata": {
        "colab": {
          "base_uri": "https://localhost:8080/"
        },
        "id": "cB73kVBoJFYN",
        "outputId": "644805be-86c2-4966-ba24-99dd5587f2d2"
      },
      "execution_count": 14,
      "outputs": [
        {
          "output_type": "stream",
          "name": "stdout",
          "text": [
            "HELLO\n"
          ]
        }
      ]
    },
    {
      "cell_type": "markdown",
      "source": [
        "5. Write a code to replace the word \"apple\" with \"orange\" in the string \"I like apple\" ?\n"
      ],
      "metadata": {
        "id": "-GExJFnY8Pje"
      }
    },
    {
      "cell_type": "code",
      "source": [
        "sen = \"I like apple\"\n",
        "new_sen = sen.replace(\"apple\", \"orange\")\n",
        "print(new_sen)\n"
      ],
      "metadata": {
        "colab": {
          "base_uri": "https://localhost:8080/"
        },
        "id": "brCy69TaJj8s",
        "outputId": "e2aa76c0-f03f-429a-f280-4d01bd444e83"
      },
      "execution_count": 15,
      "outputs": [
        {
          "output_type": "stream",
          "name": "stdout",
          "text": [
            "I like orange\n"
          ]
        }
      ]
    },
    {
      "cell_type": "markdown",
      "source": [
        "6. Write a code to create a list with numbers 1 to 5 and print it ?"
      ],
      "metadata": {
        "id": "MEvw0bWJKDGL"
      }
    },
    {
      "cell_type": "code",
      "source": [
        "numbers = [1, 2, 3, 4, 5]\n",
        "print(numbers)  # Output: [1, 2, 3, 4, 5]\n"
      ],
      "metadata": {
        "colab": {
          "base_uri": "https://localhost:8080/"
        },
        "id": "8zsYGAc7QavN",
        "outputId": "f075541e-0905-4937-cee6-a53be1de4da8"
      },
      "execution_count": 39,
      "outputs": [
        {
          "output_type": "stream",
          "name": "stdout",
          "text": [
            "[1, 2, 3, 4, 5]\n"
          ]
        }
      ]
    },
    {
      "cell_type": "markdown",
      "source": [
        "7. Write a code to append the number 10 to the list [1, 2, 3, 4] ?\n"
      ],
      "metadata": {
        "id": "uV5zFlknVKTF"
      }
    },
    {
      "cell_type": "code",
      "source": [
        "numbers = [1, 2, 3, 4]\n",
        "numbers.append(10)\n",
        "print(numbers)\n"
      ],
      "metadata": {
        "colab": {
          "base_uri": "https://localhost:8080/"
        },
        "id": "kKta05TeVXZF",
        "outputId": "e830bc09-dcba-4d41-855a-281e9ac78515"
      },
      "execution_count": 40,
      "outputs": [
        {
          "output_type": "stream",
          "name": "stdout",
          "text": [
            "[1, 2, 3, 4, 10]\n"
          ]
        }
      ]
    },
    {
      "cell_type": "markdown",
      "source": [
        " 8. Write a code to remove the number 3 from the list [1, 2, 3, 4, 5] ?"
      ],
      "metadata": {
        "id": "0ryMbl4rVgri"
      }
    },
    {
      "cell_type": "code",
      "source": [
        "numbers = [1, 2, 3, 4, 5]\n",
        "numbers.remove(3)\n",
        "print(numbers)\n"
      ],
      "metadata": {
        "colab": {
          "base_uri": "https://localhost:8080/"
        },
        "id": "bFeQy3NwVrBc",
        "outputId": "a478a1b9-2bd4-4c15-cfb5-44da0b208e4c"
      },
      "execution_count": 41,
      "outputs": [
        {
          "output_type": "stream",
          "name": "stdout",
          "text": [
            "[1, 2, 4, 5]\n"
          ]
        }
      ]
    },
    {
      "cell_type": "markdown",
      "source": [
        "9. Write a code to access the second element in the list ['a', 'b', 'c', 'd'] ?"
      ],
      "metadata": {
        "id": "PeBYpgPnV0uE"
      }
    },
    {
      "cell_type": "code",
      "source": [
        "letters = ['a', 'b', 'c', 'd']\n",
        "second_element = letters[1]\n",
        "print(second_element)"
      ],
      "metadata": {
        "colab": {
          "base_uri": "https://localhost:8080/"
        },
        "id": "N16zNj49V_c_",
        "outputId": "4029a75e-545e-41c8-8912-c9089fa0dee0"
      },
      "execution_count": 43,
      "outputs": [
        {
          "output_type": "stream",
          "name": "stdout",
          "text": [
            "b\n"
          ]
        }
      ]
    },
    {
      "cell_type": "markdown",
      "source": [
        "10. Write a code to reverse the list [10, 20, 30, 40, 50] ?"
      ],
      "metadata": {
        "id": "ssXcEDdiWLMC"
      }
    },
    {
      "cell_type": "code",
      "source": [
        "numbers = [10, 20, 30, 40, 50]\n",
        "numbers.reverse()\n",
        "print(numbers)\n"
      ],
      "metadata": {
        "colab": {
          "base_uri": "https://localhost:8080/"
        },
        "id": "BnRxjsaNWTin",
        "outputId": "8098ac5a-74d4-4c27-f1fc-fec216dcb112"
      },
      "execution_count": 44,
      "outputs": [
        {
          "output_type": "stream",
          "name": "stdout",
          "text": [
            "[50, 40, 30, 20, 10]\n"
          ]
        }
      ]
    },
    {
      "cell_type": "markdown",
      "source": [
        "11. Write a code to create a tuple with the elements 100, 200, 300 and print it"
      ],
      "metadata": {
        "id": "jdyvrXDSW_rX"
      }
    },
    {
      "cell_type": "code",
      "source": [
        "numbers = (100, 200, 300)\n",
        "print(numbers)\n"
      ],
      "metadata": {
        "colab": {
          "base_uri": "https://localhost:8080/"
        },
        "id": "-41AOCpFXO5j",
        "outputId": "eb57da8a-7d3a-459d-a19d-f37ad5d0f7cd"
      },
      "execution_count": 46,
      "outputs": [
        {
          "output_type": "stream",
          "name": "stdout",
          "text": [
            "(100, 200, 300)\n"
          ]
        }
      ]
    },
    {
      "cell_type": "markdown",
      "source": [
        "12. Write a code to access the second-to-last element of the tuple ('red', 'green', 'blue', 'yellow') ?"
      ],
      "metadata": {
        "id": "0Z37k-u2Xp3K"
      }
    },
    {
      "cell_type": "code",
      "source": [
        "colors = ('red', 'green', 'blue', 'yellow')\n",
        "second_to_last = colors[-2]\n",
        "print(second_to_last)\n"
      ],
      "metadata": {
        "colab": {
          "base_uri": "https://localhost:8080/"
        },
        "id": "owhO4-hWYkYs",
        "outputId": "83925553-dc75-4cc8-afe7-755ee4704009"
      },
      "execution_count": 49,
      "outputs": [
        {
          "output_type": "stream",
          "name": "stdout",
          "text": [
            "blue\n"
          ]
        }
      ]
    },
    {
      "cell_type": "markdown",
      "source": [
        "13. Write a code to find the minimum number in the tuple (10, 20, 5, 15) ?"
      ],
      "metadata": {
        "id": "UwWxKaTJYqii"
      }
    },
    {
      "cell_type": "code",
      "source": [
        "numbers = (10, 20, 5, 15)\n",
        "min_number = min(numbers)\n",
        "print(min_number)\n"
      ],
      "metadata": {
        "colab": {
          "base_uri": "https://localhost:8080/"
        },
        "id": "KgC4b_gXY19z",
        "outputId": "653f51e6-bf64-4853-cfcc-f9bb5abf7d33"
      },
      "execution_count": 50,
      "outputs": [
        {
          "output_type": "stream",
          "name": "stdout",
          "text": [
            "5\n"
          ]
        }
      ]
    },
    {
      "cell_type": "markdown",
      "source": [
        "14. Write a code to find the index of the element \"cat\" in the tuple ('dog', 'cat', 'rabbit')"
      ],
      "metadata": {
        "id": "cIWiVY5LZOp8"
      }
    },
    {
      "cell_type": "code",
      "source": [
        "animals = ('dog', 'cat', 'rabbit')\n",
        "index_of_cat = animals.index('cat')\n",
        "print(index_of_cat)\n"
      ],
      "metadata": {
        "colab": {
          "base_uri": "https://localhost:8080/"
        },
        "id": "w4Y-rmzJZXKq",
        "outputId": "65ab3312-92e9-40d1-c050-b3b4e79a5154"
      },
      "execution_count": 51,
      "outputs": [
        {
          "output_type": "stream",
          "name": "stdout",
          "text": [
            "1\n"
          ]
        }
      ]
    },
    {
      "cell_type": "markdown",
      "source": [
        " 15. Write a code to create a tuple containing three different fruits and check if \"kiwi\" is in it"
      ],
      "metadata": {
        "id": "0jDkJCX0Zi8Y"
      }
    },
    {
      "cell_type": "code",
      "source": [
        "fruits = (\"banana\", \"orange\",\"kiwi\")\n",
        "if \"kiwi\" in fruits:\n",
        "    print(\"Kiwi is in the tuple!\")\n",
        "else:\n",
        "    print(\"Kiwi is not in the tuple.\")\n"
      ],
      "metadata": {
        "colab": {
          "base_uri": "https://localhost:8080/"
        },
        "id": "snvxmIkXZv7e",
        "outputId": "9e1daae3-2a49-48d6-a8c2-070603ecc186"
      },
      "execution_count": 53,
      "outputs": [
        {
          "output_type": "stream",
          "name": "stdout",
          "text": [
            "Kiwi is in the tuple!\n"
          ]
        }
      ]
    },
    {
      "cell_type": "markdown",
      "source": [
        "16. Write a code to create a set with the elements 'a', 'b', 'c' and print it.\n",
        "\n"
      ],
      "metadata": {
        "id": "YaQ7CJRyaQ5Z"
      }
    },
    {
      "cell_type": "code",
      "source": [
        "# Create a set with the elements 'a', 'b', 'c'\n",
        "my_set = {'a', 'b', 'c'}\n",
        "\n",
        "# Print the set\n",
        "print(\"The set is:\", my_set)"
      ],
      "metadata": {
        "colab": {
          "base_uri": "https://localhost:8080/"
        },
        "id": "q55Kn578bC81",
        "outputId": "24e81e41-abaa-4af0-87e2-06161ab23ec4"
      },
      "execution_count": 56,
      "outputs": [
        {
          "output_type": "stream",
          "name": "stdout",
          "text": [
            "The set is: {'b', 'a', 'c'}\n"
          ]
        }
      ]
    },
    {
      "cell_type": "markdown",
      "source": [
        "17. Write a code to clear all elements from the set {1, 2, 3, 4, 5} ?"
      ],
      "metadata": {
        "id": "g-oZbvv3bMTH"
      }
    },
    {
      "cell_type": "code",
      "source": [
        "numbers = {1, 2, 3, 4, 5}\n",
        "numbers.clear()\n",
        "print(numbers)\n"
      ],
      "metadata": {
        "colab": {
          "base_uri": "https://localhost:8080/"
        },
        "id": "s5pPCVtibX8f",
        "outputId": "eebef249-fc9d-4825-8f20-66b612bdb0bc"
      },
      "execution_count": 57,
      "outputs": [
        {
          "output_type": "stream",
          "name": "stdout",
          "text": [
            "set()\n"
          ]
        }
      ]
    },
    {
      "cell_type": "markdown",
      "source": [
        " 18. Write a code to remove the element 4 from the set {1, 2, 3, 4} ?"
      ],
      "metadata": {
        "id": "HvT4_lUAbgVd"
      }
    },
    {
      "cell_type": "code",
      "source": [
        "numbers = {1, 2, 3, 4}\n",
        "numbers.remove(4)\n",
        "print(numbers)\n"
      ],
      "metadata": {
        "colab": {
          "base_uri": "https://localhost:8080/"
        },
        "id": "XHo_3u_ZbqlI",
        "outputId": "26aecfe4-fc2b-4e8f-89ea-9b3fe05c74c5"
      },
      "execution_count": 58,
      "outputs": [
        {
          "output_type": "stream",
          "name": "stdout",
          "text": [
            "{1, 2, 3}\n"
          ]
        }
      ]
    },
    {
      "cell_type": "markdown",
      "source": [
        "19. Write a code to find the union of two sets {1, 2, 3} and {3, 4, 5} ?"
      ],
      "metadata": {
        "id": "xOWk9zLsb2MI"
      }
    },
    {
      "cell_type": "code",
      "source": [
        "set1 = {1, 2, 3}\n",
        "set2 = {3, 4, 5}\n",
        "union_set = set1.union(set2)\n",
        "print(union_set)\n"
      ],
      "metadata": {
        "colab": {
          "base_uri": "https://localhost:8080/"
        },
        "id": "Wo15IBCJcA1p",
        "outputId": "d1a823ca-eaee-4b93-8db4-11125164f544"
      },
      "execution_count": 59,
      "outputs": [
        {
          "output_type": "stream",
          "name": "stdout",
          "text": [
            "{1, 2, 3, 4, 5}\n"
          ]
        }
      ]
    },
    {
      "cell_type": "markdown",
      "source": [
        "20.  Write a code to find the intersection of two sets {1, 2, 3} and {2, 3, 4} ?"
      ],
      "metadata": {
        "id": "PXc7pmE-cHii"
      }
    },
    {
      "cell_type": "code",
      "source": [
        "set1 = {1, 2, 3}\n",
        "set2 = {2, 3, 4}\n",
        "intersection_set = set1 & set2\n",
        "print(intersection_set)"
      ],
      "metadata": {
        "colab": {
          "base_uri": "https://localhost:8080/"
        },
        "id": "XBMRLzX8cMgE",
        "outputId": "7f8e5042-2838-4154-d2d6-dcd471ec0eeb"
      },
      "execution_count": 60,
      "outputs": [
        {
          "output_type": "stream",
          "name": "stdout",
          "text": [
            "{2, 3}\n"
          ]
        }
      ]
    },
    {
      "cell_type": "markdown",
      "source": [
        " 21. Write a code to create a dictionary with the keys \"name\", \"age\", and \"city\", and print it ?"
      ],
      "metadata": {
        "id": "BygNsmJ4cZTN"
      }
    },
    {
      "cell_type": "code",
      "source": [
        "person = {\n",
        "    \"name\": \"Honey\",\n",
        "    \"age\": 21,\n",
        "    \"city\": \"Delhi\"\n",
        "}\n",
        "\n",
        "print(person)\n"
      ],
      "metadata": {
        "colab": {
          "base_uri": "https://localhost:8080/"
        },
        "id": "GQTiVyE7ccXa",
        "outputId": "2a4e87bc-dbc7-4290-ba7e-35a7acb4cba2"
      },
      "execution_count": 61,
      "outputs": [
        {
          "output_type": "stream",
          "name": "stdout",
          "text": [
            "{'name': 'Honey', 'age': 21, 'city': 'Delhi'}\n"
          ]
        }
      ]
    },
    {
      "cell_type": "markdown",
      "source": [
        " 22. Write a code to add a new key-value pair \"country\": \"USA\" to the dictionary {'name': 'John', 'age': 25} ?\n",
        ""
      ],
      "metadata": {
        "id": "Tg5JAon4bQtb"
      }
    },
    {
      "cell_type": "code",
      "source": [
        "person = {'name': 'Maddy', 'age': 33}\n",
        "person['country'] = 'USA'\n",
        "print(person)\n"
      ],
      "metadata": {
        "colab": {
          "base_uri": "https://localhost:8080/"
        },
        "id": "Ef6KfO6bbe1W",
        "outputId": "e07d78c9-d9ca-4594-d7a1-938aafcfd43c"
      },
      "execution_count": 14,
      "outputs": [
        {
          "output_type": "stream",
          "name": "stdout",
          "text": [
            "{'name': 'Maddy', 'age': 33, 'country': 'USA'}\n"
          ]
        }
      ]
    },
    {
      "cell_type": "markdown",
      "source": [
        "23. Write a code to access the value associated with the key \"name\" in the dictionary {'name': 'Alice', 'age': 30} ?"
      ],
      "metadata": {
        "id": "3RJbLex5br3O"
      }
    },
    {
      "cell_type": "code",
      "source": [
        "person = {'name': 'Honey', 'age': 21}\n",
        "name_value = person.get('name')\n",
        "print(name_value)\n"
      ],
      "metadata": {
        "colab": {
          "base_uri": "https://localhost:8080/"
        },
        "id": "8JMUuiMnCPWW",
        "outputId": "60ec6016-fb5a-401b-90cc-a080231f9a40"
      },
      "execution_count": 12,
      "outputs": [
        {
          "output_type": "stream",
          "name": "stdout",
          "text": [
            "Honey\n"
          ]
        }
      ]
    },
    {
      "cell_type": "markdown",
      "source": [
        "24. Write a code to remove the key \"age\" from the dictionary {'name': 'Bob', 'age': 22, 'city': 'New York'} ?"
      ],
      "metadata": {
        "id": "zQ6qf6TRCcl4"
      }
    },
    {
      "cell_type": "code",
      "source": [
        "my_dict = {'name': 'Sam', 'age': 21, 'city': 'Banglore'}\n",
        "del my_dict['age']\n",
        "print( my_dict)"
      ],
      "metadata": {
        "colab": {
          "base_uri": "https://localhost:8080/"
        },
        "id": "uVYTbJr1Cj7j",
        "outputId": "89575905-44f7-40d8-a907-4fe83d94944f"
      },
      "execution_count": 13,
      "outputs": [
        {
          "output_type": "stream",
          "name": "stdout",
          "text": [
            "{'name': 'Sam', 'city': 'Banglore'}\n"
          ]
        }
      ]
    },
    {
      "cell_type": "markdown",
      "source": [
        " 25. Write a code to check if the key \"city\" exists in the dictionary {'name': 'Alice', 'city': 'Paris'} ?"
      ],
      "metadata": {
        "id": "fPR3GiAJDemy"
      }
    },
    {
      "cell_type": "code",
      "source": [
        "person = {'name': 'Ankit', 'city': 'jabalpur'}\n",
        "\n",
        "if 'city' in person:\n",
        "    print(\"Key 'city' exists in the dictionary!\")\n",
        "else:\n",
        "    print(\"Key 'city' does not exist.\")\n"
      ],
      "metadata": {
        "colab": {
          "base_uri": "https://localhost:8080/"
        },
        "id": "-lVEYGKTDwOF",
        "outputId": "c95a02fd-f816-418f-ca02-c495763ad2f9"
      },
      "execution_count": 11,
      "outputs": [
        {
          "output_type": "stream",
          "name": "stdout",
          "text": [
            "Key 'city' exists in the dictionary!\n"
          ]
        }
      ]
    },
    {
      "cell_type": "markdown",
      "source": [
        "26. Write a code to create a list, a tuple, and a dictionary, and print them all ?"
      ],
      "metadata": {
        "id": "wUJO8m_2D77G"
      }
    },
    {
      "cell_type": "code",
      "source": [
        "my_list = [1, 2, 3, 4, 5]\n",
        "\n",
        "my_tuple = ('samsung', 'realme', 'vivo')\n",
        "\n",
        "my_dict = {'name': 'Naitik', 'age': 17, 'city': 'India'}\n",
        "\n",
        "print(\"List:\", my_list)\n",
        "print(\"Tuple:\", my_tuple)\n",
        "print(\"Dictionary:\", my_dict)\n"
      ],
      "metadata": {
        "colab": {
          "base_uri": "https://localhost:8080/"
        },
        "id": "BucpFF61EPrq",
        "outputId": "49c59e86-aa5e-4869-f5c5-a465d7847d14"
      },
      "execution_count": 4,
      "outputs": [
        {
          "output_type": "stream",
          "name": "stdout",
          "text": [
            "List: [1, 2, 3, 4, 5]\n",
            "Tuple: ('samsung', 'realme', 'vivo')\n",
            "Dictionary: {'name': 'Naitik', 'age': 17, 'city': 'India'}\n"
          ]
        }
      ]
    },
    {
      "cell_type": "markdown",
      "source": [
        "27. Write a code to create a list of 5 random numbers between 1 and 100, sort it in ascending order, and print the\n",
        "result ?"
      ],
      "metadata": {
        "id": "ZgmfrBDrFj1D"
      }
    },
    {
      "cell_type": "code",
      "source": [
        "import random\n",
        "\n",
        "random_numbers = [random.randint(1, 100) for _ in range(5)]\n",
        "\n",
        "random_numbers.sort()\n",
        "\n",
        "print(\"Sorted random numbers:\", random_numbers)"
      ],
      "metadata": {
        "colab": {
          "base_uri": "https://localhost:8080/"
        },
        "id": "hq0ydmT0FkW4",
        "outputId": "eac43721-9f9e-4b50-9be0-8260dbedf60f"
      },
      "execution_count": 5,
      "outputs": [
        {
          "output_type": "stream",
          "name": "stdout",
          "text": [
            "Sorted random numbers: [20, 45, 50, 75, 92]\n"
          ]
        }
      ]
    },
    {
      "cell_type": "markdown",
      "source": [
        " 28. Write a code to create a list with strings and print the element at the third index ?"
      ],
      "metadata": {
        "id": "pbQegwTDGAYO"
      }
    },
    {
      "cell_type": "code",
      "source": [
        "my_list = [\"ram\", \"raju\", \"golu\", \"sam\", \"ansh\"]\n",
        "print(my_list[3])\n"
      ],
      "metadata": {
        "colab": {
          "base_uri": "https://localhost:8080/"
        },
        "id": "Zs1oEMMJGKxU",
        "outputId": "e5557e63-9c3a-4098-f321-295118cfe864"
      },
      "execution_count": 7,
      "outputs": [
        {
          "output_type": "stream",
          "name": "stdout",
          "text": [
            "sam\n"
          ]
        }
      ]
    },
    {
      "cell_type": "markdown",
      "source": [
        "29. Write a code to combine two dictionaries into one and print the result ?"
      ],
      "metadata": {
        "id": "PYfLIqrkGrVD"
      }
    },
    {
      "cell_type": "code",
      "source": [
        "dict1 = {'name': 'Honey', 'age': 21}\n",
        "dict2 = {'city': 'Delhi', 'job': 'Engineer'}\n",
        "\n",
        "combined_dict = {**dict1, **dict2}\n",
        "\n",
        "print(combined_dict)"
      ],
      "metadata": {
        "colab": {
          "base_uri": "https://localhost:8080/"
        },
        "id": "3SlJ9WkGHQXX",
        "outputId": "a38f3048-a2ee-46da-ee87-52b9358dbcf2"
      },
      "execution_count": 8,
      "outputs": [
        {
          "output_type": "stream",
          "name": "stdout",
          "text": [
            "{'name': 'Honey', 'age': 21, 'city': 'Delhi', 'job': 'Engineer'}\n"
          ]
        }
      ]
    },
    {
      "cell_type": "markdown",
      "source": [
        "30. Write a code to convert a list of strings into a set ?"
      ],
      "metadata": {
        "id": "E-tfHBfdHsar"
      }
    },
    {
      "cell_type": "code",
      "source": [
        "my_list = ['1', '2', '3', '4', '5']\n",
        "\n",
        "my_set = set(my_list)\n",
        "\n",
        "print(\"The set is:\", my_set)"
      ],
      "metadata": {
        "colab": {
          "base_uri": "https://localhost:8080/"
        },
        "id": "XTDqgyYCHyV5",
        "outputId": "d114da7b-be0f-43a3-828f-01a9e9d6cce3"
      },
      "execution_count": 10,
      "outputs": [
        {
          "output_type": "stream",
          "name": "stdout",
          "text": [
            "The set is: {'2', '5', '4', '3', '1'}\n"
          ]
        }
      ]
    }
  ]
}